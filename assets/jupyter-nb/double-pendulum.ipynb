{
 "cells": [
  {
   "cell_type": "markdown",
   "metadata": {},
   "source": [
    "## A simple animation first"
   ]
  },
  {
   "cell_type": "code",
   "execution_count": 138,
   "metadata": {},
   "outputs": [],
   "source": [
    "import numpy as np\n",
    "import matplotlib\n",
    "import matplotlib.pyplot as plt\n",
    "import matplotlib.animation as animation\n",
    "from matplotlib.patches import Circle\n",
    "from matplotlib.collections import LineCollection"
   ]
  },
  {
   "cell_type": "code",
   "execution_count": null,
   "metadata": {},
   "outputs": [],
   "source": [
    "matplotlib.rcParams['figure.figsize'] = [25, 10]"
   ]
  },
  {
   "cell_type": "code",
   "execution_count": null,
   "metadata": {},
   "outputs": [],
   "source": [
    "fig = plt.figure()\n",
    "ax = plt.axes(xlim=(0,20), ylim=(-2,2))\n",
    "line, = ax.plot([],[],lw=2)\n",
    "i_text = ax.text(0.2,1.5,'');"
   ]
  },
  {
   "cell_type": "code",
   "execution_count": null,
   "metadata": {},
   "outputs": [],
   "source": [
    "def init():\n",
    "    line.set_data([], [])\n",
    "    i_text.set_text('')\n",
    "    return line,\n",
    "\n",
    "def animate(i):\n",
    "    x = np.linspace(0, 20, 1000)\n",
    "    y = np.sin(np.pi * (0.01 * x * i))\n",
    "    i_text.set_text(\"frame= %f\" % i)\n",
    "    line.set_data(x, y)\n",
    "    return line, i_text"
   ]
  },
  {
   "cell_type": "code",
   "execution_count": null,
   "metadata": {},
   "outputs": [],
   "source": [
    "anim = animation.FuncAnimation(fig, animate, init_func=init, frames=500, interval=20)\n",
    "\n",
    "from IPython.display import HTML\n",
    "HTML(anim.to_html5_video())\n",
    "\n",
    "anim.save(\"squiggly_sin_wave.mp4\", fps=30)"
   ]
  },
  {
   "cell_type": "markdown",
   "metadata": {},
   "source": [
    "## A simple pendulum"
   ]
  },
  {
   "cell_type": "markdown",
   "metadata": {},
   "source": [
    "## The double pendulum.\n",
    "\n",
    "### Process.\n",
    "\n",
    "1. Take the constants and initial conditions:\n",
    "    1. Initial conditions involve as angular positions and velocities: $\\theta_{1}$, $\\omega_{1}$, $\\theta_{2}$ and $\\omega_{2}$.\n",
    "    1. The angular velocities correspond to angular momenta: $p_{1}$ and $p_{2}$.\n",
    "    1. Constants are masses and lengths of bobs and arms: $M_{1}$, $L_{1}$, $M_{2}$ and $L_{2}$."
   ]
  },
  {
   "cell_type": "markdown",
   "metadata": {},
   "source": [
    "## A little mathematics\n",
    "\n",
    "The equations of the double pendulum are fairly complicated to solving using \"normal\" classical mechanics. So, instead we use something called Lagrangian Mechanics and Hamiltonian mechanics.\n",
    "\n",
    "When using the Lagrange method we are expected to solve, the following equation:\n",
    "\n",
    "$$\\frac{d}{dt} \\frac{\\partial L}{\\partial \\dot{x}} = \\frac{\\partial L}{\\partial t}$$\n",
    "\n",
    "When using L-mechanics we get two 2nd-order ODE's for $\\theta_{1}$, $\\theta_{2}$, $\\ddot{\\theta_{1}}$ and $\\ddot{\\theta_{2}}$. As far as my limited knowledge is concerned, we cannot directly numerically integrate 2nd-order ODE's. We'll have to convert them to four 1st-order ODEs.\n",
    "\n",
    "Here are the two lagrangian differential equations:\n",
    "\n",
    "1. $ {\\left( {{m_1} + {m_2}} \\right)l_1^2{\\ddot \\alpha _1} }\n",
    "+ {{m_2}{l_1}{l_2}{\\ddot \\alpha _2}\\cos \\left( {{\\alpha _1}  {\\alpha _2}} \\right) }\n",
    "+ {{m_2}{l_1}{l_2}\\dot \\alpha _2^2\\sin\\left( {{\\alpha _1} {\\alpha _2}} \\right) }\n",
    "+ {\\left( {{m_1} + {m_2}} \\right)g{l_1}\\sin {\\alpha _1} }={ 0.} $\n",
    "\n",
    "2. $ {{l_2}{\\ddot \\alpha _2} \n",
    "+   {l_1}{\\ddot \\alpha _1}\\cos \\left( {{\\alpha _1} {\\alpha _2}} \\right) }\n",
    "  { {l_1} \\dot \\alpha _1^2\\sin \\left( {{\\alpha _1} {\\alpha _2}} \\right) }\n",
    "+ {g\\sin {\\alpha _2} }={ 0.} $"
   ]
  },
  {
   "cell_type": "code",
   "execution_count": 2,
   "metadata": {},
   "outputs": [],
   "source": [
    "from scipy import integrate"
   ]
  },
  {
   "cell_type": "code",
   "execution_count": 301,
   "metadata": {},
   "outputs": [],
   "source": [
    "[th1, th2, p1, p2] = [180, -90, 0, 0]\n",
    "(m1, l1, m2, l2, g) = 1, 1., 1, 1, 9.8\n",
    "origin = (0,0)\n",
    "\n",
    "#        [   0      1      2      3 ]\n",
    "#state = [ th1,   th2,   om1,   om2 ]\n",
    "state = np.radians([th1, th2, p1, p2])\n",
    "\n",
    "dt = 0.005\n",
    "t_start=0\n",
    "t_end=200\n",
    "t = np.arange(0.0, 200.0, dt)"
   ]
  },
  {
   "cell_type": "code",
   "execution_count": 339,
   "metadata": {},
   "outputs": [
    {
     "data": {
      "text/plain": [
       "40000.0"
      ]
     },
     "execution_count": 339,
     "metadata": {},
     "output_type": "execute_result"
    }
   ],
   "source": [
    "200/0.005"
   ]
  },
  {
   "cell_type": "code",
   "execution_count": 302,
   "metadata": {},
   "outputs": [],
   "source": [
    "def deriv(state,t):\n",
    "    dydx = np.zeros_like(state)\n",
    "    \n",
    "    th1, th2, p1, p2 = np.split(state,4,axis=0)\n",
    "    \n",
    "    sin_del = np.sin(th1 - th2)\n",
    "    cos_del = np.cos(th1 - th2) \n",
    "    \n",
    "    c1 = p1 * p2 * sin_del / (l1 * l2 * (m1 + m2 * sin_del**2 ))\n",
    "    c2_num = l2**2 * m2 * p1**2 + l1**2 * ( m1 + m2 ) * p2**2 - l1 * l2 * m2 * p1 * p2 * cos_del\n",
    "    c2_den = 2 *  l1**2 * l2**2 * (m1 + m2 * ( sin_del**2 ))**2\n",
    "    c2 = ( c2_num / c2_den) * np.sin(2* (th1 - th2))\n",
    "\n",
    "    dydx[0] = ( l2 * p1 - l1 * p2 * cos_del ) / ( l1**2 * l2 * ( m1 + m2 * sin_del**2 ) )\n",
    "    dydx[1] = ( l1 * (m1 + m2) * p2 - l2 * m2 * p1 * cos_del ) / ( l1 * l2**2 * m2 * ( m1 + m2 * sin_del**2 ) )\n",
    "    dydx[2] = -( m1 + m2) * g * l1 * np.sin(th1) - c1 + c2\n",
    "    dydx[3] = -m2 * g * l2 * np.sin(th2) + c2 - c2    \n",
    "    \n",
    "    return dydx"
   ]
  },
  {
   "cell_type": "code",
   "execution_count": 303,
   "metadata": {},
   "outputs": [],
   "source": [
    "soln = integrate.odeint(deriv, state, t)"
   ]
  },
  {
   "cell_type": "code",
   "execution_count": 317,
   "metadata": {},
   "outputs": [],
   "source": [
    "x = np.cumsum( [origin[0],\n",
    "                l1 * np.sin(soln[:,0]),\n",
    "                l2 * np.sin(soln[:,1])] )\n",
    "\n",
    "y = np.cumsum( [origin[1],\n",
    "                -l1 * np.cos(soln[:,0]),\n",
    "                -l2 * np.cos(soln[:,1])] )"
   ]
  },
  {
   "cell_type": "code",
   "execution_count": 305,
   "metadata": {
    "collapsed": true,
    "jupyter": {
     "outputs_hidden": true
    }
   },
   "outputs": [
    {
     "data": {
      "image/png": "[encoded data removed]",
      "text/plain": [
       "<Figure size 720x720 with 1 Axes>"
      ]
     },
     "metadata": {
      "needs_background": "light"
     },
     "output_type": "display_data"
    }
   ],
   "source": [
    "matplotlib.rcParams['figure.figsize'] = [10, 10]\n",
    "\n",
    "fig = plt.figure()\n",
    "ax = plt.axes(xlim=(-2,2), ylim=(-2,2), aspect='equal', autoscale_on=False)\n",
    "ax.grid()\n",
    "\n",
    "r = 0.07\n",
    "c0 = Circle((x[0], y[0]), radius=r, fc='red')\n",
    "c1 = Circle((x[0], y[0]), radius=r, fc='blue')\n",
    "c2 = Circle((x[0], y[0]), radius=r, fc='green')\n",
    "\n",
    "line, = ax.plot([],[],'-',lw=2, color='black')\n",
    "trail2, = ax.plot([],[],'-',lw=2, color='green')\n",
    "\n",
    "norm = plt.Normalize(0.9, 1)\n",
    "colors = LineCollection([], cmap='hsv', norm=norm)\n",
    "ax.add_collection(colors)\n",
    "\n",
    "time_template = 'time = '\n",
    "time_text = ax.text(0.05, 0.9, '', transform=ax.transAxes, size=20)\n",
    "\n",
    "time_template1 = '%.1fs'\n",
    "time_text1 = ax.text(0.2, 0.9, '', transform=ax.transAxes, size=20)"
   ]
  },
  {
   "cell_type": "code",
   "execution_count": 328,
   "metadata": {},
   "outputs": [],
   "source": [
    "def init():\n",
    "    line.set_data([],[])\n",
    "#     trail1.set_data([],[])\n",
    "#     trail2.set_data([],[])\n",
    "    time_text.set_text(time_template)\n",
    "    \n",
    "    c0.center = (0,0)\n",
    "    c1.center = (0,0)\n",
    "    c2.center = (0,0)\n",
    "    \n",
    "    ax.add_patch(c0) \n",
    "    ax.add_patch(c1)\n",
    "    ax.add_patch(c2)\n",
    "        \n",
    "    return line, time_text\n",
    "\n",
    "def animate(i):\n",
    "    x0, x1, x2 = x[0], x[1][i], x[2][i]\n",
    "    y0, y1, y2 = y[0], y[1][i], y[2][i]\n",
    "    \n",
    "    thisx = [x0, x1, x2]\n",
    "    thisy = [y0, y1, y2]\n",
    "        \n",
    "    c1.center = (x1, y1)\n",
    "    c2.center = (x2, y2)\n",
    "    \n",
    "    trailx = x[2][i-100:i]\n",
    "    traily = y[2][i-100:i]\n",
    "    points = np.array([trailx, traily]).T.reshape(-1, 1, 2)\n",
    "    segments = np.concatenate([points[:-1], points[1:]], axis=1)\n",
    "\n",
    "    colors.set_segments(segments)    \n",
    "    line.set_data(thisx, thisy)\n",
    "    time_text1.set_text(time_template1 % t[i])\n",
    "    \n",
    "    return line, colors, time_text"
   ]
  },
  {
   "cell_type": "code",
   "execution_count": 329,
   "metadata": {},
   "outputs": [
    {
     "name": "stdout",
     "output_type": "stream",
     "text": [
      "duration: 120.0\n",
      "actual_fps: 50.0\n"
     ]
    }
   ],
   "source": [
    "trail_duration = 5 #secs\n",
    "\n",
    "duration = 6000/50\n",
    "print(\"duration:\",duration)\n",
    "\n",
    "actual_fps = 6000/120\n",
    "print(\"actual_fps:\", actual_fps)"
   ]
  },
  {
   "cell_type": "raw",
   "metadata": {},
   "source": [
    "ani = animation.FuncAnimation(fig, animate, frames=40000, interval=1, init_func=init, blit=True)\n",
    "\n",
    "from IPython.display import HTML\n",
    "HTML(ani.to_html5_video())"
   ]
  },
  {
   "cell_type": "code",
   "execution_count": null,
   "metadata": {},
   "outputs": [],
   "source": [
    "ani.save(\"double_pendulum1.mp4\", fps=30)"
   ]
  },
  {
   "cell_type": "code",
   "execution_count": null,
   "metadata": {},
   "outputs": [],
   "source": [
    "18:50\n",
    "19:33"
   ]
  }
 ],
 "metadata": {
  "kernelspec": {
   "display_name": "Python 3",
   "language": "python",
   "name": "python3"
  },
  "language_info": {
   "codemirror_mode": {
    "name": "ipython",
    "version": 3
   },
   "file_extension": ".py",
   "mimetype": "text/x-python",
   "name": "python",
   "nbconvert_exporter": "python",
   "pygments_lexer": "ipython3",
   "version": "3.7.7"
  }
 },
 "nbformat": 4,
 "nbformat_minor": 4
}
